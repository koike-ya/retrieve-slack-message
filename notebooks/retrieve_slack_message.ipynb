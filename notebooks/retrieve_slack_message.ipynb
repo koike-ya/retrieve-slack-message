{
 "cells": [
  {
   "cell_type": "markdown",
   "source": [
    "# slackのメッセージをbigqueryに格納"
   ],
   "metadata": {}
  },
  {
   "cell_type": "markdown",
   "source": [
    "1. Retrieve all channel ids\n",
    "2. Update mongo atlas channel collection\n",
    "3. Retrieve conversation history\n",
    "    1. Pick up one channel id\n",
    "    2. Retrieve conversation history and ts of it\n",
    "    3. Insert them to bigquery\n",
    "    4. Update the latest ts in Mongo Atlas\n",
    "    5. Back to No.1 and pick another channel id\n",
    "4. Retrieve conversation reply\n",
    "    1. Pick up one channel id and one conversasion history ts\n",
    "    2. Retrieve conversation reply and ts of it\n",
    "    3. Insert them to bigquery\n",
    "    4. Update the latest ts in Mongo Atlas\n",
    "    5. Back to No.1 and pick another conversasion history ts"
   ],
   "metadata": {}
  },
  {
   "cell_type": "code",
   "execution_count": null,
   "source": [
    "from enum import Enum\n",
    "import os\n",
    "\n",
    "import requests\n",
    "import json\n",
    "\n",
    "from tqdm import tqdm\n",
    "import pandas as pd\n",
    "from google.cloud import bigquery\n",
    "import pymongo"
   ],
   "outputs": [],
   "metadata": {}
  },
  {
   "cell_type": "code",
   "execution_count": null,
   "source": [
    "TOKEN = os.environ['SLACK_MESSAGE_SLACK_TOKEN']\n",
    "\n",
    "MONGO_URI_SLACK_MESSAGE = os.environ['MONGO_URI_SLACK_MESSAGE']\n",
    "mongo_client = pymongo.MongoClient(MONGO_URI_SLACK_MESSAGE).myslack"
   ],
   "outputs": [],
   "metadata": {}
  },
  {
   "cell_type": "code",
   "execution_count": null,
   "source": [
    "def parse_json(dic, prefixes=[]):\n",
    "    new_dic = {}\n",
    "    for key, value in dic.items():\n",
    "        if type(value) == list:\n",
    "            value = {str(i): v for i, v in enumerate(value)}\n",
    "            \n",
    "        if type(value) == dict:\n",
    "            new_dic.update(parse_json(value, prefixes + [key]))\n",
    "        else:\n",
    "            new_dic[f\"{'.'.join(prefixes + [key])}\"] = value\n",
    "    return new_dic\n",
    "\n",
    "\n",
    "def write_to_jsonl(file_path, lis: list):\n",
    "    with open(file_path, 'w', encoding='utf8') as f:\n",
    "        for dic in lis:\n",
    "            json.dump(dic, f, ensure_ascii=False)\n",
    "            f.write('\\n')\n",
    "\n",
    "\n",
    "def insert_to_bigquery(json_list, table_name):\n",
    "    bq_client = bigquery.Client()\n",
    "    table_id = f\"disco-name-210809.myslackchannel.{table_name}\"\n",
    "\n",
    "    errors = bq_client.insert_rows_json(table_id, json_list)\n",
    "    if errors != []:\n",
    "        print(\"Encountered errors while inserting rows: {}\".format(errors))\n",
    "\n",
    "\n",
    "class RequestType(Enum):\n",
    "    CHANNELS = 1\n",
    "    HISTORY = 2\n",
    "    JOIN = 3\n",
    "    \n",
    "\n",
    "def request_slack_api(request_type: RequestType, \n",
    "                      payload: dict = {},\n",
    "                     ):\n",
    "    if request_type == RequestType.CHANNELS:\n",
    "        url = \"https://slack.com/api/conversations.list\"\n",
    "        payload[\"limit\"] = \"1000\"\n",
    "    elif request_type == RequestType.HISTORY:\n",
    "        url = \"https://slack.com/api/conversations.history\"\n",
    "    elif request_type == RequestType.JOIN:\n",
    "        url = \"https://slack.com/api/conversations.join\"\n",
    "        \n",
    "    header = {\n",
    "        \"Authorization\": \"Bearer {}\".format(TOKEN)\n",
    "    }\n",
    "\n",
    "    res = requests.get(url, headers=header, params=payload)\n",
    "    return res.json()\n",
    "\n",
    "\n",
    "def retrieve_slack_api(request_type: RequestType, \n",
    "                       payload: dict = {},\n",
    "                      ):\n",
    "    res = []\n",
    "    res.append(request_slack_api(request_type, payload))\n",
    "    if not res[-1]['ok']:\n",
    "        print(res)\n",
    "        return []\n",
    "\n",
    "    while res[-1].get('has_more'):\n",
    "        payload['cursor'] = res[-1]['response_metadata']['next_cursor']\n",
    "        res.append(request_slack_api(request_type, payload))\n",
    "\n",
    "    return res\n",
    "\n",
    "\n",
    "def retrieve_channel_history(channel_id, latest_ts=0):\n",
    "    messages = []\n",
    "    payload = {\n",
    "        \"channel\" : channel_id,\n",
    "        \"limit\": 200,\n",
    "        \"oldest\": latest_ts\n",
    "    }\n",
    "    \n",
    "    res_list = retrieve_slack_api(RequestType.HISTORY, payload)\n",
    "    [messages.extend(res['messages']) for res in res_list if res]\n",
    "    return messages\n",
    "\n",
    "\n",
    "def parse_channels(res: dict):\n",
    "    flatten_df = pd.concat([pd.Series(parse_json(dic)) for dic in res['channels']], axis=1).T\n",
    "    return flatten_df\n",
    "\n",
    "\n",
    "def parse_messages(messages: list):        \n",
    "    return pd.concat([pd.Series(parse_json(m)) for m in messages], axis=1).T"
   ],
   "outputs": [],
   "metadata": {}
  },
  {
   "cell_type": "markdown",
   "source": [
    "## Retrieve all channel ids"
   ],
   "metadata": {}
  },
  {
   "cell_type": "code",
   "execution_count": null,
   "source": [
    "res_list = retrieve_slack_api(RequestType.CHANNELS)\n",
    "channels = []\n",
    "[channels.extend(res['channels']) for res in res_list]\n",
    "channels"
   ],
   "outputs": [],
   "metadata": {}
  },
  {
   "cell_type": "markdown",
   "source": [
    "## Join all channels"
   ],
   "metadata": {}
  },
  {
   "cell_type": "code",
   "execution_count": null,
   "source": [
    "for channel in tqdm(channels):\n",
    "    channel_id = channel['id']\n",
    "    payload = {\n",
    "        'channel': channel_id\n",
    "    }\n",
    "    request_slack_api(RequestType.JOIN, payload)"
   ],
   "outputs": [],
   "metadata": {}
  },
  {
   "cell_type": "markdown",
   "source": [
    "## Retrieve conversation history"
   ],
   "metadata": {}
  },
  {
   "cell_type": "markdown",
   "source": [
    "1. Pick up one channel id\n",
    "2. Find the latest ts from Mongo Atlas, 0 if no collection inserted.\n",
    "2. Retrieve conversation history and ts of it\n",
    "3. Insert them to bigquery\n",
    "4. Update the latest ts in Mongo Atlas\n",
    "5. Back to No.1 and pick another channel id"
   ],
   "metadata": {}
  },
  {
   "cell_type": "code",
   "execution_count": null,
   "source": [
    "for channel in tqdm(channels):\n",
    "    channel_id = channel['id']\n",
    "    \n",
    "    latest_ts_channel = mongo_client.history.find_one({\"channel_id\": channel_id}, sort=[('ts', -1)])\n",
    "    latest_ts = latest_ts_channel.get('ts', 0) if latest_ts_channel else 0\n",
    "    messages = retrieve_channel_history(channel_id, latest_ts)\n",
    "\n",
    "    if messages:\n",
    "        for message in messages:\n",
    "            message['channel_id'] = channel_id\n",
    "        insert_to_bigquery(messages, table_name='history')\n",
    "        messages.sort(key=lambda message: message['ts'])\n",
    "        latest_ts = messages[-1]['ts']\n",
    "        mongo_client.history.update_one({'channel_id': channel_id}, {'$set': {'ts': latest_ts}}, upsert=True)"
   ],
   "outputs": [],
   "metadata": {}
  },
  {
   "cell_type": "markdown",
   "source": [
    "## Retrieve conversation reply"
   ],
   "metadata": {}
  },
  {
   "cell_type": "markdown",
   "source": [
    "1. Pick up one channel id and one conversasion history ts\n",
    "1. Retrieve conversation reply and ts of it\n",
    "1. Insert them to bigquery\n",
    "1. Update the latest ts in Mongo Atlas\n",
    "1. Back to No.1 and pick another conversasion history ts"
   ],
   "metadata": {}
  },
  {
   "cell_type": "code",
   "execution_count": null,
   "source": [
    "def retrieve_replies(channel_id, thread_ts, latest_reply_ts=0):\n",
    "    messages = []\n",
    "    payload = {\n",
    "        \"channel\" : channel_id,\n",
    "        \"ts\": thread_ts,\n",
    "        \"oldest\": latest_reply_ts,\n",
    "        \"limit\": 200,\n",
    "    }\n",
    "\n",
    "    res_list = retrieve_slack_api(RequestType.HISTORY, payload)\n",
    "    [messages.extend(res['messages']) for res in res_list if res]\n",
    "    return messages"
   ],
   "outputs": [],
   "metadata": {}
  },
  {
   "cell_type": "code",
   "execution_count": null,
   "source": [
    "for channel in tqdm(channels):\n",
    "    channel_id = channel['id']\n",
    "    messages = retrieve_channel_history(channel_id)\n",
    "        \n",
    "    for message in messages:\n",
    "        thread_ts = message['ts']\n",
    "        latest_ts_history = mongo_client.reply.find_one({\"channel_id\": channel_id, 'thread_ts': thread_ts}, sort=[('ts', -1)])\n",
    "        latest_reply_ts = latest_ts_history.get('ts', 0) if latest_ts_history else 0\n",
    "        \n",
    "        thread_messsages = retrieve_replies(channel_id, thread_ts, latest_reply_ts)\n",
    "        if thread_messsages:\n",
    "            for thread_messsage in thread_messsages:\n",
    "                thread_messsage['channel_id'] = channel_id\n",
    "            insert_to_bigquery(thread_messsages, table_name='reply')\n",
    "            thread_messsages.sort(key=lambda m: m['ts'])\n",
    "            latest_ts = thread_messsages[-1]['ts']\n",
    "            mongo_client.reply.update_one({'channel_id': channel_id, 'thread_ts': thread_ts}, {'$set': {'ts': latest_ts}}, upsert=True)"
   ],
   "outputs": [],
   "metadata": {}
  },
  {
   "cell_type": "markdown",
   "source": [
    "#### TODO\n",
    "- [ ] channelの情報をMongoのchannelコレクションからbqに移す\n",
    "- [ ] threadがないmessageとか、チャンネルがarchiveされているときとかに無駄な処理が発生している"
   ],
   "metadata": {}
  },
  {
   "cell_type": "code",
   "execution_count": null,
   "source": [],
   "outputs": [],
   "metadata": {}
  }
 ],
 "metadata": {
  "kernelspec": {
   "display_name": "myslack",
   "language": "python",
   "name": "myslack"
  },
  "language_info": {
   "codemirror_mode": {
    "name": "ipython",
    "version": 3
   },
   "file_extension": ".py",
   "mimetype": "text/x-python",
   "name": "python",
   "nbconvert_exporter": "python",
   "pygments_lexer": "ipython3",
   "version": "3.7.11"
  }
 },
 "nbformat": 4,
 "nbformat_minor": 5
}
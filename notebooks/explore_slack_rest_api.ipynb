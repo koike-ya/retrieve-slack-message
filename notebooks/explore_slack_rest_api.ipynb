{
 "cells": [
  {
   "cell_type": "code",
   "execution_count": 2,
   "id": "f0ed3e9d",
   "metadata": {},
   "outputs": [],
   "source": [
    "import requests"
   ]
  },
  {
   "cell_type": "code",
   "execution_count": null,
   "id": "911f79bf",
   "metadata": {},
   "outputs": [],
   "source": [
    "url = \"https://slack.com/api/conversations.history\" \n",
    "token = \"XXX\"\n",
    "\n",
    "header={\n",
    "    \"Authorization\": \"Bearer {}\".format(token)\n",
    "}\n",
    "\n",
    "payload  = {\n",
    "    \"channel\" : \"C022M6U7G4F\"\n",
    "    }\n",
    "\n",
    "res = requests.get(url, headers=header, params=payload)\n",
    "\n",
    "print(res.json())"
   ]
  }
 ],
 "metadata": {
  "kernelspec": {
   "display_name": "myslack",
   "language": "python",
   "name": "myslack"
  },
  "language_info": {
   "codemirror_mode": {
    "name": "ipython",
    "version": 3
   },
   "file_extension": ".py",
   "mimetype": "text/x-python",
   "name": "python",
   "nbconvert_exporter": "python",
   "pygments_lexer": "ipython3",
   "version": "3.8.11"
  }
 },
 "nbformat": 4,
 "nbformat_minor": 5
}
